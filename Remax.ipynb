{
 "cells": [
  {
   "cell_type": "markdown",
   "id": "2920fd76",
   "metadata": {},
   "source": [
    "Use the requests library to download web pages\n",
    "\n",
    "- Inspect the website's HTML source and identify the right URLs to download.\n",
    "- Download and save web pages locally using the requests library.\n",
    "- Create a function to automate downloading for different topics/search queries."
   ]
  },
  {
   "cell_type": "code",
   "execution_count": 1,
   "id": "70dff9cc",
   "metadata": {},
   "outputs": [],
   "source": [
    "import requests"
   ]
  },
  {
   "cell_type": "code",
   "execution_count": 2,
   "id": "d7469ea5",
   "metadata": {},
   "outputs": [],
   "source": [
    "topics_url = 'https://www.remax.com/homes-for-sale/nv/reno/city/3260600'"
   ]
  },
  {
   "cell_type": "code",
   "execution_count": 3,
   "id": "b94b605e",
   "metadata": {},
   "outputs": [],
   "source": [
    "response = requests.get(topics_url)"
   ]
  },
  {
   "cell_type": "code",
   "execution_count": 4,
   "id": "8325d096",
   "metadata": {},
   "outputs": [
    {
     "data": {
      "text/plain": [
       "200"
      ]
     },
     "execution_count": 4,
     "metadata": {},
     "output_type": "execute_result"
    }
   ],
   "source": [
    "response.status_code"
   ]
  },
  {
   "cell_type": "code",
   "execution_count": 5,
   "id": "8d039831",
   "metadata": {},
   "outputs": [
    {
     "data": {
      "text/plain": [
       "271541"
      ]
     },
     "execution_count": 5,
     "metadata": {},
     "output_type": "execute_result"
    }
   ],
   "source": [
    "len(response.text)"
   ]
  },
  {
   "cell_type": "code",
   "execution_count": 6,
   "id": "5f77c1fb",
   "metadata": {},
   "outputs": [],
   "source": [
    "page_contents = response.text"
   ]
  },
  {
   "cell_type": "code",
   "execution_count": 7,
   "id": "5bc2a83d",
   "metadata": {},
   "outputs": [
    {
     "data": {
      "text/plain": [
       "'<!doctype html>\\n<html data-n-head-ssr lang=\"en\" data-n-head=\"%7B%22lang%22:%7B%22ssr%22:%22en%22%7D%7D\">\\n  <head >\\n    <title>Reno, NV Real Estate &amp; Homes for Sale | RE/MAX</title><meta data-n-head=\"ssr\" charset=\"utf-8\"><meta data-n-head=\"ssr\" name=\"google-site-verification\" content=\"DNfEMQTm-Fcep3V_LUmztTa8sT4xHv1CjZ3tqNsUJAQ\"><meta data-n-head=\"ssr\" name=\"viewport\" content=\"width=device-width, initial-scale=1, viewport-fit=cover\"><meta data-n-head=\"ssr\" name=\"facebook-domain-verification\" content=\"l09r0fpqnm56wrh69okdhr85b5c5kc\"><meta data-n-head=\"ssr\" data-hid=\"ogImage\" property=\"og:image\" content=\"https://peak-static-prod.remax.booj.io/web/images/nice-house.jpg\"><meta data-n-head=\"ssr\" data-hid=\"description\" name=\"description\" content=\"Search the most complete Reno, NV real estate listings for sale. Find Reno, NV homes for sale, real estate, apartments, condos, townhomes, mobile homes, multi-family units, farm and land lots with RE/MAX&#x27;s powerful search tools.\"><meta data-'"
      ]
     },
     "execution_count": 7,
     "metadata": {},
     "output_type": "execute_result"
    }
   ],
   "source": [
    "page_contents[:1000]"
   ]
  },
  {
   "cell_type": "markdown",
   "id": "78f49efa",
   "metadata": {},
   "source": [
    "USE BEAUTIFUL SOUPS TO PARSE AND EXTRACT INFO"
   ]
  },
  {
   "cell_type": "code",
   "execution_count": 8,
   "id": "08309b2f",
   "metadata": {},
   "outputs": [],
   "source": [
    "from bs4 import BeautifulSoup"
   ]
  },
  {
   "cell_type": "code",
   "execution_count": 9,
   "id": "44eaabb7",
   "metadata": {},
   "outputs": [],
   "source": [
    "doc = BeautifulSoup(page_contents, 'html.parser')"
   ]
  },
  {
   "cell_type": "markdown",
   "id": "6ec6a1b3",
   "metadata": {},
   "source": [
    "Extract home address info"
   ]
  },
  {
   "cell_type": "code",
   "execution_count": 10,
   "id": "2149ae60",
   "metadata": {},
   "outputs": [],
   "source": [
    "h5_tags = doc.find_all('h5')"
   ]
  },
  {
   "cell_type": "code",
   "execution_count": 11,
   "id": "22ab6639",
   "metadata": {},
   "outputs": [
    {
     "data": {
      "text/plain": [
       "24"
      ]
     },
     "execution_count": 11,
     "metadata": {},
     "output_type": "execute_result"
    }
   ],
   "source": [
    "len(h5_tags)"
   ]
  },
  {
   "cell_type": "code",
   "execution_count": 12,
   "id": "07d84850",
   "metadata": {},
   "outputs": [
    {
     "data": {
      "text/plain": [
       "[<h5 data-v-10bd6ae4=\"\">1950 REED ST<span data-v-10bd6ae4=\"\">, Reno, NV 89512</span></h5>,\n",
       " <h5 data-v-10bd6ae4=\"\">345 S HOWARD<span data-v-10bd6ae4=\"\">, Virginia City, NV 89440</span></h5>,\n",
       " <h5 data-v-10bd6ae4=\"\">12935 VALLEY SPRINGS RD<span data-v-10bd6ae4=\"\">, Reno, NV 89511</span></h5>,\n",
       " <h5 data-v-10bd6ae4=\"\">865 PENNSYLVANIA DR<span data-v-10bd6ae4=\"\">, Reno, NV 89503</span></h5>,\n",
       " <h5 data-v-10bd6ae4=\"\">000 MOUNTAIN ASPEN LN<span data-v-10bd6ae4=\"\">, Reno, NV 89510</span></h5>]"
      ]
     },
     "execution_count": 12,
     "metadata": {},
     "output_type": "execute_result"
    }
   ],
   "source": [
    "h5_tags[:5]"
   ]
  },
  {
   "cell_type": "code",
   "execution_count": 13,
   "id": "d4f373ab",
   "metadata": {},
   "outputs": [
    {
     "data": {
      "text/plain": [
       "'1950 REED ST, Reno, NV 89512'"
      ]
     },
     "execution_count": 13,
     "metadata": {},
     "output_type": "execute_result"
    }
   ],
   "source": [
    "h5_tags[0].text"
   ]
  },
  {
   "cell_type": "code",
   "execution_count": 14,
   "id": "ef2942ad",
   "metadata": {},
   "outputs": [
    {
     "name": "stdout",
     "output_type": "stream",
     "text": [
      "['1950 REED ST, Reno, NV 89512', '345 S HOWARD, Virginia City, NV 89440', '12935 VALLEY SPRINGS RD, Reno, NV 89511', '865 PENNSYLVANIA DR, Reno, NV 89503', '000 MOUNTAIN ASPEN LN, Reno, NV 89510', '3525 YOSEMITE PL, Reno, NV 89503', '2050 BRISBANE AVE, Reno, NV 89503', '487 AUTUMN BREEZE CIR, Reno, NV 89511', '15033 CUPRITE ST, Reno, NV 89506', '18168 CEDAR VIEW DR, Reno, NV 89508', '9280 FLEETWOOD DR, Reno, NV 89506', '10270 MOTT DR, Reno, NV 89521', '0 C ST, Virginia City, NV 89440', '225 BRENHAM AVE, Reno, NV 89509', '13475 ARROWSPRINGS DR, Reno, NV 89511', '6308 WALNUT CREEK RD, Reno, NV 89523', '12519 BRASS RIDGE ST # HOMESITE, Reno, NV 89521', '8605 RED BARON BLVD, Reno, NV 89506', '1500 DEL WEBB PKWY W, Reno, NV 89523', '4201 W HIDDEN VALLEY DR, Reno, NV 89502', '15130 BAILEY CANYON DR, Reno, NV 89521', '7855 CRYSTAL SHORES CT, Reno, NV 89506', '17185 SUNBIRD LN, Reno, NV 89508', '16160 RHYOLITE CIR, Reno, NV 89521']\n"
     ]
    }
   ],
   "source": [
    "home_address = []\n",
    "\n",
    "for tag in h5_tags:\n",
    "    home_address.append(tag.text)\n",
    "    \n",
    "print(home_address)"
   ]
  },
  {
   "cell_type": "markdown",
   "id": "4b1a4075",
   "metadata": {},
   "source": [
    "Extract price info"
   ]
  },
  {
   "cell_type": "code",
   "execution_count": 15,
   "id": "01661c6c",
   "metadata": {},
   "outputs": [],
   "source": [
    "h4_tags = doc.find_all('h4')"
   ]
  },
  {
   "cell_type": "code",
   "execution_count": 19,
   "id": "c6095550",
   "metadata": {},
   "outputs": [
    {
     "data": {
      "text/plain": [
       "29"
      ]
     },
     "execution_count": 19,
     "metadata": {},
     "output_type": "execute_result"
    }
   ],
   "source": [
    "len(h4_tags)"
   ]
  },
  {
   "cell_type": "code",
   "execution_count": 22,
   "id": "638cea03",
   "metadata": {},
   "outputs": [],
   "source": [
    "price_selector = 'price'\n",
    "price_tags = doc.find_all('h4', {'class' : price_selector})"
   ]
  },
  {
   "cell_type": "code",
   "execution_count": 23,
   "id": "7d45e619",
   "metadata": {},
   "outputs": [
    {
     "data": {
      "text/plain": [
       "24"
      ]
     },
     "execution_count": 23,
     "metadata": {},
     "output_type": "execute_result"
    }
   ],
   "source": [
    "len(price_tags)"
   ]
  },
  {
   "cell_type": "code",
   "execution_count": 25,
   "id": "6d2dce0e",
   "metadata": {},
   "outputs": [
    {
     "data": {
      "text/plain": [
       "[<h4 class=\"price\" data-v-10bd6ae4=\"\">\n",
       "         $325,000\n",
       "       </h4>,\n",
       " <h4 class=\"price\" data-v-10bd6ae4=\"\">\n",
       "         $295,000\n",
       "       </h4>,\n",
       " <h4 class=\"price\" data-v-10bd6ae4=\"\">\n",
       "         $550,000\n",
       "       </h4>,\n",
       " <h4 class=\"price\" data-v-10bd6ae4=\"\">\n",
       "         $575,000\n",
       "       </h4>,\n",
       " <h4 class=\"price\" data-v-10bd6ae4=\"\">\n",
       "         $299,000\n",
       "       </h4>]"
      ]
     },
     "execution_count": 25,
     "metadata": {},
     "output_type": "execute_result"
    }
   ],
   "source": [
    "price_tags[:5]"
   ]
  },
  {
   "cell_type": "code",
   "execution_count": 29,
   "id": "5b5629ce",
   "metadata": {},
   "outputs": [
    {
     "data": {
      "text/plain": [
       "['$325,000', '$295,000', '$550,000', '$575,000', '$299,000']"
      ]
     },
     "execution_count": 29,
     "metadata": {},
     "output_type": "execute_result"
    }
   ],
   "source": [
    "home_price = []\n",
    "\n",
    "for tag in price_tags:\n",
    "    home_price.append(tag.text.strip())\n",
    "    \n",
    "home_price[:5]"
   ]
  },
  {
   "cell_type": "markdown",
   "id": "794664f2",
   "metadata": {},
   "source": [
    "Extract # of beds per property"
   ]
  },
  {
   "cell_type": "code",
   "execution_count": 30,
   "id": "a896213f",
   "metadata": {},
   "outputs": [],
   "source": [
    "beds_selector = 'mr-1'\n",
    "bed_tags = doc.find_all('strong', {'class' : beds_selector})"
   ]
  },
  {
   "cell_type": "code",
   "execution_count": 31,
   "id": "6b6de8b8",
   "metadata": {},
   "outputs": [
    {
     "data": {
      "text/plain": [
       "[<strong class=\"mr-1\" data-v-10bd6ae4=\"\">2</strong>,\n",
       " <strong class=\"mr-1\" data-v-10bd6ae4=\"\">1</strong>,\n",
       " <strong class=\"mr-1\" data-v-10bd6ae4=\"\">1,039</strong>,\n",
       " <strong class=\"mr-1\" data-v-10bd6ae4=\"\">3.76</strong>,\n",
       " <strong class=\"mr-1\" data-v-10bd6ae4=\"\">3</strong>]"
      ]
     },
     "execution_count": 31,
     "metadata": {},
     "output_type": "execute_result"
    }
   ],
   "source": [
    "bed_tags[:5]"
   ]
  },
  {
   "cell_type": "code",
   "execution_count": 32,
   "id": "ce9c4721",
   "metadata": {},
   "outputs": [
    {
     "name": "stdout",
     "output_type": "stream",
     "text": [
      "['2', '1', '1,039', '3.76', '3', '2', '1,642', '4', '3', '1,828', '48.79', '3', '2', '1,344', '3', '2', '1,672', '3', '3', '1,409', '4', '3', '1,587', '3', '2', '1,040', '3', '2', '1,056', '3', '3', '2,826', '0.62', '3', '3', '1,836', '4', '4', '3,342', '3', '2', '1,141', '2', '3', '2,005', '4', '2', '1,400', '3', '2', '2,496', '4', '3', '2,844', '3', '2', '1,838', '3', '2', '1,318', '3', '2', '1,292', '3', '3', '1,320']\n"
     ]
    }
   ],
   "source": [
    "home_beds = []\n",
    "\n",
    "for tag in bed_tags:\n",
    "    home_beds.append(tag.text)\n",
    "    \n",
    "print(home_beds)"
   ]
  },
  {
   "cell_type": "markdown",
   "id": "757b3a28",
   "metadata": {},
   "source": [
    "Create dataframe using pandas"
   ]
  },
  {
   "cell_type": "code",
   "execution_count": 33,
   "id": "36b6e96c",
   "metadata": {},
   "outputs": [],
   "source": [
    "import pandas as pd"
   ]
  },
  {
   "cell_type": "code",
   "execution_count": 39,
   "id": "9f42dbe5",
   "metadata": {},
   "outputs": [],
   "source": [
    "home_dict = {\n",
    "    'address' : home_address,\n",
    "    'price' : home_price,\n",
    "}"
   ]
  },
  {
   "cell_type": "code",
   "execution_count": 40,
   "id": "9384b945",
   "metadata": {},
   "outputs": [],
   "source": [
    "home_df = pd.DataFrame(home_dict)"
   ]
  },
  {
   "cell_type": "code",
   "execution_count": 41,
   "id": "2f983349",
   "metadata": {},
   "outputs": [
    {
     "data": {
      "text/html": [
       "<div>\n",
       "<style scoped>\n",
       "    .dataframe tbody tr th:only-of-type {\n",
       "        vertical-align: middle;\n",
       "    }\n",
       "\n",
       "    .dataframe tbody tr th {\n",
       "        vertical-align: top;\n",
       "    }\n",
       "\n",
       "    .dataframe thead th {\n",
       "        text-align: right;\n",
       "    }\n",
       "</style>\n",
       "<table border=\"1\" class=\"dataframe\">\n",
       "  <thead>\n",
       "    <tr style=\"text-align: right;\">\n",
       "      <th></th>\n",
       "      <th>address</th>\n",
       "      <th>price</th>\n",
       "    </tr>\n",
       "  </thead>\n",
       "  <tbody>\n",
       "    <tr>\n",
       "      <th>0</th>\n",
       "      <td>1950 REED ST, Reno, NV 89512</td>\n",
       "      <td>$325,000</td>\n",
       "    </tr>\n",
       "    <tr>\n",
       "      <th>1</th>\n",
       "      <td>345 S HOWARD, Virginia City, NV 89440</td>\n",
       "      <td>$295,000</td>\n",
       "    </tr>\n",
       "    <tr>\n",
       "      <th>2</th>\n",
       "      <td>12935 VALLEY SPRINGS RD, Reno, NV 89511</td>\n",
       "      <td>$550,000</td>\n",
       "    </tr>\n",
       "    <tr>\n",
       "      <th>3</th>\n",
       "      <td>865 PENNSYLVANIA DR, Reno, NV 89503</td>\n",
       "      <td>$575,000</td>\n",
       "    </tr>\n",
       "    <tr>\n",
       "      <th>4</th>\n",
       "      <td>000 MOUNTAIN ASPEN LN, Reno, NV 89510</td>\n",
       "      <td>$299,000</td>\n",
       "    </tr>\n",
       "    <tr>\n",
       "      <th>5</th>\n",
       "      <td>3525 YOSEMITE PL, Reno, NV 89503</td>\n",
       "      <td>$455,000</td>\n",
       "    </tr>\n",
       "    <tr>\n",
       "      <th>6</th>\n",
       "      <td>2050 BRISBANE AVE, Reno, NV 89503</td>\n",
       "      <td>$524,900</td>\n",
       "    </tr>\n",
       "    <tr>\n",
       "      <th>7</th>\n",
       "      <td>487 AUTUMN BREEZE CIR, Reno, NV 89511</td>\n",
       "      <td>$459,000</td>\n",
       "    </tr>\n",
       "    <tr>\n",
       "      <th>8</th>\n",
       "      <td>15033 CUPRITE ST, Reno, NV 89506</td>\n",
       "      <td>$325,000</td>\n",
       "    </tr>\n",
       "    <tr>\n",
       "      <th>9</th>\n",
       "      <td>18168 CEDAR VIEW DR, Reno, NV 89508</td>\n",
       "      <td>$379,000</td>\n",
       "    </tr>\n",
       "    <tr>\n",
       "      <th>10</th>\n",
       "      <td>9280 FLEETWOOD DR, Reno, NV 89506</td>\n",
       "      <td>$339,900</td>\n",
       "    </tr>\n",
       "    <tr>\n",
       "      <th>11</th>\n",
       "      <td>10270 MOTT DR, Reno, NV 89521</td>\n",
       "      <td>$767,000</td>\n",
       "    </tr>\n",
       "    <tr>\n",
       "      <th>12</th>\n",
       "      <td>0 C ST, Virginia City, NV 89440</td>\n",
       "      <td>$279,000</td>\n",
       "    </tr>\n",
       "    <tr>\n",
       "      <th>13</th>\n",
       "      <td>225 BRENHAM AVE, Reno, NV 89509</td>\n",
       "      <td>$550,000</td>\n",
       "    </tr>\n",
       "    <tr>\n",
       "      <th>14</th>\n",
       "      <td>13475 ARROWSPRINGS DR, Reno, NV 89511</td>\n",
       "      <td>$1,450,000</td>\n",
       "    </tr>\n",
       "    <tr>\n",
       "      <th>15</th>\n",
       "      <td>6308 WALNUT CREEK RD, Reno, NV 89523</td>\n",
       "      <td>$415,000</td>\n",
       "    </tr>\n",
       "    <tr>\n",
       "      <th>16</th>\n",
       "      <td>12519 BRASS RIDGE ST # HOMESITE, Reno, NV 89521</td>\n",
       "      <td>$846,995</td>\n",
       "    </tr>\n",
       "    <tr>\n",
       "      <th>17</th>\n",
       "      <td>8605 RED BARON BLVD, Reno, NV 89506</td>\n",
       "      <td>$419,000</td>\n",
       "    </tr>\n",
       "    <tr>\n",
       "      <th>18</th>\n",
       "      <td>1500 DEL WEBB PKWY W, Reno, NV 89523</td>\n",
       "      <td>$749,000</td>\n",
       "    </tr>\n",
       "    <tr>\n",
       "      <th>19</th>\n",
       "      <td>4201 W HIDDEN VALLEY DR, Reno, NV 89502</td>\n",
       "      <td>$885,000</td>\n",
       "    </tr>\n",
       "    <tr>\n",
       "      <th>20</th>\n",
       "      <td>15130 BAILEY CANYON DR, Reno, NV 89521</td>\n",
       "      <td>$649,000</td>\n",
       "    </tr>\n",
       "    <tr>\n",
       "      <th>21</th>\n",
       "      <td>7855 CRYSTAL SHORES CT, Reno, NV 89506</td>\n",
       "      <td>$435,000</td>\n",
       "    </tr>\n",
       "    <tr>\n",
       "      <th>22</th>\n",
       "      <td>17185 SUNBIRD LN, Reno, NV 89508</td>\n",
       "      <td>$370,000</td>\n",
       "    </tr>\n",
       "    <tr>\n",
       "      <th>23</th>\n",
       "      <td>16160 RHYOLITE CIR, Reno, NV 89521</td>\n",
       "      <td>$299,000</td>\n",
       "    </tr>\n",
       "  </tbody>\n",
       "</table>\n",
       "</div>"
      ],
      "text/plain": [
       "                                            address       price\n",
       "0                      1950 REED ST, Reno, NV 89512    $325,000\n",
       "1             345 S HOWARD, Virginia City, NV 89440    $295,000\n",
       "2           12935 VALLEY SPRINGS RD, Reno, NV 89511    $550,000\n",
       "3               865 PENNSYLVANIA DR, Reno, NV 89503    $575,000\n",
       "4             000 MOUNTAIN ASPEN LN, Reno, NV 89510    $299,000\n",
       "5                  3525 YOSEMITE PL, Reno, NV 89503    $455,000\n",
       "6                 2050 BRISBANE AVE, Reno, NV 89503    $524,900\n",
       "7             487 AUTUMN BREEZE CIR, Reno, NV 89511    $459,000\n",
       "8                  15033 CUPRITE ST, Reno, NV 89506    $325,000\n",
       "9               18168 CEDAR VIEW DR, Reno, NV 89508    $379,000\n",
       "10                9280 FLEETWOOD DR, Reno, NV 89506    $339,900\n",
       "11                    10270 MOTT DR, Reno, NV 89521    $767,000\n",
       "12                  0 C ST, Virginia City, NV 89440    $279,000\n",
       "13                  225 BRENHAM AVE, Reno, NV 89509    $550,000\n",
       "14            13475 ARROWSPRINGS DR, Reno, NV 89511  $1,450,000\n",
       "15             6308 WALNUT CREEK RD, Reno, NV 89523    $415,000\n",
       "16  12519 BRASS RIDGE ST # HOMESITE, Reno, NV 89521    $846,995\n",
       "17              8605 RED BARON BLVD, Reno, NV 89506    $419,000\n",
       "18             1500 DEL WEBB PKWY W, Reno, NV 89523    $749,000\n",
       "19          4201 W HIDDEN VALLEY DR, Reno, NV 89502    $885,000\n",
       "20           15130 BAILEY CANYON DR, Reno, NV 89521    $649,000\n",
       "21           7855 CRYSTAL SHORES CT, Reno, NV 89506    $435,000\n",
       "22                 17185 SUNBIRD LN, Reno, NV 89508    $370,000\n",
       "23               16160 RHYOLITE CIR, Reno, NV 89521    $299,000"
      ]
     },
     "execution_count": 41,
     "metadata": {},
     "output_type": "execute_result"
    }
   ],
   "source": [
    "home_df"
   ]
  },
  {
   "cell_type": "markdown",
   "id": "70ec2a28",
   "metadata": {},
   "source": [
    "CREATING A CSV FILE WITH THE EXTRACTED INFO"
   ]
  },
  {
   "cell_type": "code",
   "execution_count": 42,
   "id": "29cd279f",
   "metadata": {},
   "outputs": [],
   "source": [
    "home_df.to_csv('home.csv', index=None)"
   ]
  }
 ],
 "metadata": {
  "kernelspec": {
   "display_name": "Python 3 (ipykernel)",
   "language": "python",
   "name": "python3"
  },
  "language_info": {
   "codemirror_mode": {
    "name": "ipython",
    "version": 3
   },
   "file_extension": ".py",
   "mimetype": "text/x-python",
   "name": "python",
   "nbconvert_exporter": "python",
   "pygments_lexer": "ipython3",
   "version": "3.9.12"
  }
 },
 "nbformat": 4,
 "nbformat_minor": 5
}
